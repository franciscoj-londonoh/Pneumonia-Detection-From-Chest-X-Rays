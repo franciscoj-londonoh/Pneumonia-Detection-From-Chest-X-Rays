{
 "cells": [
  {
   "cell_type": "code",
   "execution_count": 1,
   "metadata": {},
   "outputs": [
    {
     "name": "stderr",
     "output_type": "stream",
     "text": [
      "Using TensorFlow backend.\n"
     ]
    }
   ],
   "source": [
    "import numpy as np\n",
    "import pandas as pd\n",
    "import pydicom\n",
    "%matplotlib inline\n",
    "import matplotlib.pyplot as plt\n",
    "import keras \n",
    "from skimage.transform import resize"
   ]
  },
  {
   "cell_type": "code",
   "execution_count": 2,
   "metadata": {},
   "outputs": [],
   "source": [
    "# This function reads in a .dcm file, checks the important fields for our device, and returns a numpy array\n",
    "# of just the imaging data\n",
    "def check_dicom(filename): \n",
    "    # todo\n",
    "    \n",
    "    print('Load file {} ...'.format(filename))\n",
    "    ds = pydicom.dcmread(filename)       \n",
    "    img = ds.pixel_array\n",
    "    \n",
    "    if ds.Modality != \"DX\":\n",
    "        print(\"Warning: Image modality is CT\")\n",
    "        img = 0\n",
    "    \n",
    "    if ds.BodyPartExamined != \"CHEST\":\n",
    "        print(\"Warning: Body part analized is {}\" .format(ds.BodyPartExamined))\n",
    "        img = 0\n",
    "    \n",
    "    if not (ds.PatientPosition == \"AP\" or ds.PatientPosition == \"PA\"):\n",
    "        print(\"Warning: Patient position is {}\" .format(ds.PatientPosition))\n",
    "        img = 0\n",
    "    \n",
    "    return img\n",
    "    \n",
    "    \n",
    "# This function takes the numpy array output by check_dicom and \n",
    "# runs the appropriate pre-processing needed for our model input\n",
    "def preprocess_image(img,img_mean,img_std,img_size): \n",
    "    # todo\n",
    "    proc_img = img.copy()\n",
    "    proc_img = (proc_img - img_mean)/img_std\n",
    "    # Finally resizing it to our desired size.\n",
    "    proc_img = resize(proc_img, img_size)\n",
    "    \n",
    "    return proc_img\n",
    "\n",
    "# This function loads in our trained model w/ weights and compiles it \n",
    "def load_model(model_path, weight_path):\n",
    "    # todo\n",
    "    \n",
    "    json_file = open(model_path, \"r\")\n",
    "    loaded_model_json = json_file.read() \n",
    "    json_file.close() \n",
    "    model = keras.models.model_from_json(loaded_model_json) \n",
    "    model.load_weights(weight_path)\n",
    "    \n",
    "    return model\n",
    "\n",
    "# This function uses our device's threshold parameters to predict whether or not\n",
    "# the image shows the presence of pneumonia using our trained model\n",
    "def predict_image(model, img, thresh): \n",
    "    # todo    \n",
    "    \n",
    "    prediction = my_model.predict(img)\n",
    "    \n",
    "    return prediction "
   ]
  },
  {
   "cell_type": "code",
   "execution_count": 10,
   "metadata": {},
   "outputs": [
    {
     "name": "stdout",
     "output_type": "stream",
     "text": [
      "Load file test1.dcm ...\n",
      "[[0.5045222]] [['Pneumonia']]\n",
      "Load file test2.dcm ...\n",
      "[[0.50220346]] [['Pneumonia']]\n",
      "Load file test3.dcm ...\n",
      "[[0.5075497]] [['Pneumonia']]\n",
      "Load file test4.dcm ...\n",
      "Warning: Body part analized is RIBCAGE\n",
      "Load file test5.dcm ...\n",
      "Warning: Image modality is CT\n",
      "Load file test6.dcm ...\n",
      "Warning: Patient position is XX\n"
     ]
    }
   ],
   "source": [
    "test_dicoms = ['test1.dcm','test2.dcm','test3.dcm','test4.dcm','test5.dcm','test6.dcm']\n",
    "\n",
    "model_path =  \"my_model.json\" #path to saved model\n",
    "weight_path = \"{}_my_model.best.hdf5\".format('xray_class')#path to saved best weights\n",
    "\n",
    "\n",
    "IMG_SIZE=(1,224,224,3) # This might be different if you did not use vgg16\n",
    "\n",
    "\n",
    "my_model = load_model(model_path, weight_path) #loads model\n",
    "thresh = 0.50 #loads the threshold they chose for model classification \n",
    "\n",
    "# use the .dcm files to test your prediction\n",
    "for i in test_dicoms:\n",
    "    \n",
    "    img = np.array([])\n",
    "    img = check_dicom(i)\n",
    "    \n",
    "    if img is not 0:\n",
    "        img_mean = np.mean(img) # loads the mean image value they used during training preprocessing\n",
    "        img_std = np.std(img) # loads the std dev image value they used during training preprocessing\n",
    "        img_proc = preprocess_image(img,img_mean,img_std,IMG_SIZE)\n",
    "        pred = predict_image(my_model,img_proc,thresh)\n",
    "        print(pred, np.where(np.round(pred) == 0, \"No pneumonia\", \"Pneumonia\"))\n",
    "        pass"
   ]
  },
  {
   "cell_type": "code",
   "execution_count": null,
   "metadata": {},
   "outputs": [],
   "source": [
    "# Conclusions:\n",
    "# 1. Algorithm performance needs to be improved"
   ]
  }
 ],
 "metadata": {
  "kernelspec": {
   "display_name": "Python 3",
   "language": "python",
   "name": "python3"
  },
  "language_info": {
   "codemirror_mode": {
    "name": "ipython",
    "version": 3
   },
   "file_extension": ".py",
   "mimetype": "text/x-python",
   "name": "python",
   "nbconvert_exporter": "python",
   "pygments_lexer": "ipython3",
   "version": "3.7.6"
  }
 },
 "nbformat": 4,
 "nbformat_minor": 2
}
